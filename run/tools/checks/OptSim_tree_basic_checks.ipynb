{
 "cells": [
  {
   "cell_type": "code",
   "execution_count": null,
   "metadata": {},
   "outputs": [],
   "source": [
    "import uproot\n",
    "import pandas as pd\n",
    "\n",
    "root_filename = 'test.root'\n",
    "root_file = uproot.open(root_filename)\n",
    "root_file.keys()"
   ]
  },
  {
   "cell_type": "code",
   "execution_count": null,
   "metadata": {},
   "outputs": [],
   "source": [
    "tree = root_file['t1']\n",
    "branch = tree.arrays()\n",
    "#branches = tree.arrays(namedecode='utf-8')\n",
    "branch.keys()"
   ]
  },
  {
   "cell_type": "code",
   "execution_count": null,
   "metadata": {},
   "outputs": [],
   "source": [
    "#df = tree.pandas.df(flatten=False)\n",
    "df = tree.pandas.df(['hit_xpos', 'hit_ypos', 'hit_zpos']) \n",
    "#df = tree.pandas.df(['hit_vol_id']) \n",
    "df.head()"
   ]
  },
  {
   "cell_type": "code",
   "execution_count": null,
   "metadata": {
    "scrolled": false
   },
   "outputs": [],
   "source": [
    "import plotly.express as px\n",
    "import numpy as np\n",
    "\n",
    "fig = px.scatter(df,\n",
    "                title='OptSimLUT',\n",
    "                x='hit_xpos',\n",
    "                y='hit_ypos',\n",
    "                #color='VolIdx',\n",
    "                #color_continuous_scale=['darkblue','red'],\n",
    "                template='seaborn')\n",
    "fig.update_layout(yaxis_type='linear', yaxis_title='YPos')\n",
    "fig.show()"
   ]
  },
  {
   "cell_type": "code",
   "execution_count": null,
   "metadata": {},
   "outputs": [],
   "source": [
    "fig = px.scatter(df,\n",
    "                title='OptSimLUT',\n",
    "                x='OpChannel',\n",
    "                y='Voxel',\n",
    "                color=np.log(df['Visibility']*100),\n",
    "                color_continuous_scale=['darkblue','red','gold'],\n",
    "                template='seaborn')\n",
    "fig.update_layout(yaxis_type='linear', yaxis_title='Voxel', coloraxis_colorbar_title='Visibility [%]')\n",
    "fig.show()"
   ]
  },
  {
   "cell_type": "code",
   "execution_count": null,
   "metadata": {},
   "outputs": [],
   "source": [
    "nChannel = 48\n",
    "for i in range(nChannel):\n",
    "    ch = df[df.OpChannel==i]\n",
    "    y = np.array(ch.YPos)\n",
    "    print(y.mean())"
   ]
  },
  {
   "cell_type": "code",
   "execution_count": null,
   "metadata": {},
   "outputs": [],
   "source": []
  }
 ],
 "metadata": {
  "kernelspec": {
   "display_name": "Python 3",
   "language": "python",
   "name": "python3"
  },
  "language_info": {
   "codemirror_mode": {
    "name": "ipython",
    "version": 3
   },
   "file_extension": ".py",
   "mimetype": "text/x-python",
   "name": "python",
   "nbconvert_exporter": "python",
   "pygments_lexer": "ipython3",
   "version": "3.8.5"
  }
 },
 "nbformat": 4,
 "nbformat_minor": 4
}
